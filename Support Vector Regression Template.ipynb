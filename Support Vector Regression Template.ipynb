{
 "cells": [
  {
   "cell_type": "markdown",
   "id": "8d80cca3",
   "metadata": {},
   "source": [
    "# Linear Support Vector Regression (SVR)"
   ]
  },
  {
   "cell_type": "markdown",
   "id": "866e9dbb",
   "metadata": {},
   "source": [
    "This notebook serves as a template for support vector regression.\n",
    "\n",
    "Support vector regression gives the user more flexibility to determine the level of acceptable error in the model by tuning the hyperparameters $C$ and $\\epsilon$.\n",
    "\n",
    "The general form of support vector regression is as follows:"
   ]
  },
  {
   "cell_type": "markdown",
   "id": "255ebfe5",
   "metadata": {},
   "source": [
    "$\\displaystyle\\frac{1}{2} \\|w\\|^2 + C\\sum_{i=1}^{m}(\\xi_i + \\xi_i^*) \\rightarrow min$\n",
    "\n",
    "$constraints$\n",
    "\n",
    "$y_i-wx_i-b\\leq \\epsilon + \\xi_i$\n",
    "\n",
    "$wx_i+b-y_i \\leq \\epsilon + \\xi_i^*$\n",
    "\n",
    "$\\xi_i , \\xi_i^* \\geq 0$\n",
    "\n",
    "$where$\n",
    "\n",
    "$y = wx + b$\n",
    "\n",
    "$\\epsilon =$ maximum error\n",
    "\n",
    "$\\xi_i=$ error above $\\epsilon$\n",
    "\n",
    "$\\xi_i^*=$ error below $\\epsilon$\n",
    "\n",
    "$C=$ tolerance of points outside $\\epsilon$"
   ]
  },
  {
   "cell_type": "markdown",
   "id": "2fb8149d",
   "metadata": {},
   "source": [
    "## Importing The Libraries"
   ]
  },
  {
   "cell_type": "code",
   "execution_count": null,
   "id": "30e0aef7",
   "metadata": {},
   "outputs": [],
   "source": [
    "import numpy as np\n",
    "import pandas as pd\n",
    "import matplotlib.pyplot as plt"
   ]
  },
  {
   "cell_type": "markdown",
   "id": "47c071e7",
   "metadata": {},
   "source": [
    "## Importing the Dataset"
   ]
  },
  {
   "cell_type": "code",
   "execution_count": null,
   "id": "286d471c",
   "metadata": {},
   "outputs": [],
   "source": [
    "# Imports `Data.csv` from the notebook's directory\n",
    "# Slices columns 1 to (n-1) as `X`, and column n as `y`\n",
    "# where n = number of columns\n",
    "dataset = pd.read_csv('Data.csv')\n",
    "X = dataset.iloc[:, :-1].values\n",
    "y = dataset.iloc[:, -1].values"
   ]
  },
  {
   "cell_type": "code",
   "execution_count": null,
   "id": "dfc274c5",
   "metadata": {},
   "outputs": [],
   "source": [
    "# reshape y for feature scaling\n",
    "y = y.reshape(len(y), 1)"
   ]
  },
  {
   "cell_type": "markdown",
   "id": "79f42abb",
   "metadata": {},
   "source": [
    "## Splitting the Dataset into the Training set and Test set"
   ]
  },
  {
   "cell_type": "code",
   "execution_count": null,
   "id": "322f45a8",
   "metadata": {},
   "outputs": [],
   "source": [
    "from sklearn.model_selection import train_test_split\n",
    "X_train, X_test, y_train, y_test = train_test_split(X, y, test_size = 0.2, random_state = 0)"
   ]
  },
  {
   "cell_type": "markdown",
   "id": "c4e196bc",
   "metadata": {},
   "source": [
    "## Feature Scaling"
   ]
  },
  {
   "cell_type": "code",
   "execution_count": null,
   "id": "c5eeb383",
   "metadata": {},
   "outputs": [],
   "source": [
    "# Normalizing the data for better ananysis\n",
    "from sklearn.preprocessing import StandardScaler\n",
    "sc_X = StandardScaler()\n",
    "sc_y = StandardScaler()\n",
    "X_train = sc_X.fit_transform(X_train)\n",
    "y_train = sc_y.fit_transform(y_train)"
   ]
  },
  {
   "cell_type": "markdown",
   "id": "85369eff",
   "metadata": {},
   "source": [
    "## Training the SVR model on the Training Set"
   ]
  },
  {
   "cell_type": "code",
   "execution_count": null,
   "id": "97b76700",
   "metadata": {},
   "outputs": [],
   "source": [
    "from sklearn.svm import SVR\n",
    "# Using the RBF kernel\n",
    "regressor = SVR(kernel='rbf')\n",
    "regressor.fit(X_train, y_train.ravel())"
   ]
  },
  {
   "cell_type": "markdown",
   "id": "c01f34e7",
   "metadata": {},
   "source": [
    "## Predicting a New Result"
   ]
  },
  {
   "cell_type": "code",
   "execution_count": null,
   "id": "00f4d794",
   "metadata": {},
   "outputs": [],
   "source": [
    "# Transform the test set to the scale of the model\n",
    "# Then scale the result back for comparison\n",
    "y_pred = sc_y.inverse_transform(regressor.predict(sc_X.transform(X_test)).reshape(-1, 1))\n",
    "np.set_printoptions(precision=2)\n",
    "print(np.concatenate((y_pred.reshape(len(y_pred),1), y_test.reshape(len(y_test),1)),1))"
   ]
  },
  {
   "cell_type": "markdown",
   "id": "9ae5753b",
   "metadata": {},
   "source": [
    "## Evaluating the Model Performace"
   ]
  },
  {
   "cell_type": "code",
   "execution_count": null,
   "id": "f28815d1",
   "metadata": {
    "scrolled": true
   },
   "outputs": [],
   "source": [
    "from sklearn.metrics import r2_score\n",
    "r2_score(y_test, y_pred)"
   ]
  },
  {
   "cell_type": "markdown",
   "id": "9fad28e2",
   "metadata": {},
   "source": [
    "## Visualizing the SVR results (High Resolution)"
   ]
  },
  {
   "cell_type": "code",
   "execution_count": null,
   "id": "7d72a421",
   "metadata": {},
   "outputs": [],
   "source": [
    "X_grid = np.arange(min(sc_X.inverse_transform(X)), max(sc_X.inverse_transform(X)), 0.1)\n",
    "X_grid = X_grid.reshape((len(X_grid), 1))\n",
    "plt.plot(X_grid, sc_y.inverse_transform(regressor.predict(sc_X.transform(X_grid)).reshape(-1, 1)), color='blue')\n",
    "plt.scatter(sc_X.inverse_transform(X), sc_y.inverse_transform(y), color='red')\n",
    "plt.title('SVR')\n",
    "plt.xlabel('')\n",
    "plt.ylabel('')\n",
    "plt.show()"
   ]
  }
 ],
 "metadata": {
  "kernelspec": {
   "display_name": "Python 3 (ipykernel)",
   "language": "python",
   "name": "python3"
  },
  "language_info": {
   "codemirror_mode": {
    "name": "ipython",
    "version": 3
   },
   "file_extension": ".py",
   "mimetype": "text/x-python",
   "name": "python",
   "nbconvert_exporter": "python",
   "pygments_lexer": "ipython3",
   "version": "3.9.12"
  }
 },
 "nbformat": 4,
 "nbformat_minor": 5
}
