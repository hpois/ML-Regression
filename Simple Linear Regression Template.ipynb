{
 "cells": [
  {
   "cell_type": "markdown",
   "id": "61695dc5",
   "metadata": {},
   "source": [
    "# Simple Linear Regression"
   ]
  },
  {
   "cell_type": "markdown",
   "id": "40c6d4cd",
   "metadata": {},
   "source": [
    "This notebook serves as a templte for builing a simple linear regression machine learning model using the Scikit Learn library.\n",
    "\n",
    "A simple linear relationship follows the general equation:\n",
    "\n",
    "$y = b_0 + b_1x_1$"
   ]
  },
  {
   "cell_type": "markdown",
   "id": "1bbc47c0",
   "metadata": {},
   "source": [
    "## Importing The Libraries"
   ]
  },
  {
   "cell_type": "code",
   "execution_count": null,
   "id": "afa58a04",
   "metadata": {},
   "outputs": [],
   "source": [
    "import pandas as pd\n",
    "import matplotlib.pyplot as plt\n",
    "import numpy as np"
   ]
  },
  {
   "cell_type": "markdown",
   "id": "63f5ce35",
   "metadata": {},
   "source": [
    "## Importing the Dataset"
   ]
  },
  {
   "cell_type": "code",
   "execution_count": null,
   "id": "80eef549",
   "metadata": {},
   "outputs": [],
   "source": [
    "# Imports `Data.csv` from the notebook's directory\n",
    "# Slices columns 1 to (n-1) as `X`, and column n as `y`\n",
    "# where n = number of columns\n",
    "dataset = pd.read_csv(\"Data.csv\")\n",
    "X = dataset.iloc[:, :-1].values\n",
    "y = dataset.iloc[:, -1].values"
   ]
  },
  {
   "cell_type": "markdown",
   "id": "95d18721",
   "metadata": {},
   "source": [
    "## Splitting the dataset into the Training set and Test set"
   ]
  },
  {
   "cell_type": "code",
   "execution_count": null,
   "id": "0c967a13",
   "metadata": {},
   "outputs": [],
   "source": [
    "from sklearn.model_selection import train_test_split\n",
    "X_train, X_test, y_train, y_test = train_test_split(X, y, test_size=0.2)"
   ]
  },
  {
   "cell_type": "markdown",
   "id": "1e73acdb",
   "metadata": {},
   "source": [
    "## Training the Linear Regression Model on the Training Set"
   ]
  },
  {
   "cell_type": "code",
   "execution_count": null,
   "id": "6833a20d",
   "metadata": {},
   "outputs": [],
   "source": [
    "from sklearn.linear_model import LinearRegression\n",
    "regressor = LinearRegression()\n",
    "regressor.fit(X_train, y_train)"
   ]
  },
  {
   "cell_type": "markdown",
   "id": "619b993f",
   "metadata": {},
   "source": [
    "## Predictiong the Test set results"
   ]
  },
  {
   "cell_type": "code",
   "execution_count": null,
   "id": "c672adbc",
   "metadata": {},
   "outputs": [],
   "source": [
    "y_pred = regressor.predict(X_test)"
   ]
  },
  {
   "cell_type": "markdown",
   "id": "2da521b4",
   "metadata": {},
   "source": [
    "## Visualizing the Test Set"
   ]
  },
  {
   "cell_type": "code",
   "execution_count": null,
   "id": "5f6ed9b5",
   "metadata": {},
   "outputs": [],
   "source": [
    "plt.plot(X_train, regressor.predict(X_train), color='blue')\n",
    "plt.scatter(X_test, y_test, color='red')\n",
    "plt.title('')\n",
    "plt.xlabel('')\n",
    "plt.ylabel('')\n",
    "plt.show()"
   ]
  },
  {
   "cell_type": "markdown",
   "id": "055eb93b",
   "metadata": {},
   "source": [
    "## Evaluating the Model Performace"
   ]
  },
  {
   "cell_type": "code",
   "execution_count": 19,
   "id": "fc38d4b8",
   "metadata": {
    "scrolled": true
   },
   "outputs": [
    {
     "data": {
      "text/plain": [
       "0.9325315554761303"
      ]
     },
     "execution_count": 19,
     "metadata": {},
     "output_type": "execute_result"
    }
   ],
   "source": [
    "# use R squared as a metric for model performance\n",
    "from sklearn.metrics import r2_score\n",
    "r2_score(y_test, y_pred)"
   ]
  },
  {
   "cell_type": "markdown",
   "id": "60058001",
   "metadata": {},
   "source": [
    "## Making a single Prediction"
   ]
  },
  {
   "cell_type": "code",
   "execution_count": null,
   "id": "d732e8ca",
   "metadata": {},
   "outputs": [],
   "source": [
    "regressor.predict([[]])"
   ]
  }
 ],
 "metadata": {
  "kernelspec": {
   "display_name": "Python 3 (ipykernel)",
   "language": "python",
   "name": "python3"
  },
  "language_info": {
   "codemirror_mode": {
    "name": "ipython",
    "version": 3
   },
   "file_extension": ".py",
   "mimetype": "text/x-python",
   "name": "python",
   "nbconvert_exporter": "python",
   "pygments_lexer": "ipython3",
   "version": "3.9.12"
  }
 },
 "nbformat": 4,
 "nbformat_minor": 5
}
