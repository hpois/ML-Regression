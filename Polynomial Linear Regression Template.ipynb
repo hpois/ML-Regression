{
 "cells": [
  {
   "cell_type": "markdown",
   "id": "15205453",
   "metadata": {},
   "source": [
    "# Polynomial Linear Regression"
   ]
  },
  {
   "cell_type": "markdown",
   "id": "6fc95ab8",
   "metadata": {},
   "source": [
    "This notebook serves as a templte for builing a polynomial linear regression machine learning model using the Scikit Learn library.\n",
    "\n",
    "Polynomial Linear Regression follows the general equation:\n",
    "\n",
    "$y = b_{0} + b_1x_1 + b_2x_1^2 + ... + b_nx_1^n$"
   ]
  },
  {
   "cell_type": "markdown",
   "id": "83ffc875",
   "metadata": {},
   "source": [
    "## Importing the Libraries"
   ]
  },
  {
   "cell_type": "code",
   "execution_count": null,
   "id": "23d461e5",
   "metadata": {},
   "outputs": [],
   "source": [
    "import pandas as pd\n",
    "import matplotlib.pyplot as plt\n",
    "import numpy as np"
   ]
  },
  {
   "cell_type": "markdown",
   "id": "367ab78d",
   "metadata": {},
   "source": [
    "## Importing the Dataset"
   ]
  },
  {
   "cell_type": "code",
   "execution_count": null,
   "id": "6295e877",
   "metadata": {},
   "outputs": [],
   "source": [
    "# Imports `Data.csv` from the notebook's directory\n",
    "# Slices columns 1 to (n-1) as `X`, and column n as `y`\n",
    "# where n = number of columns\n",
    "dataset = pd.read_csv('Data.csv')\n",
    "X = dataset.iloc[:, :-1].values\n",
    "y = dataset.iloc[:, -1].values"
   ]
  },
  {
   "cell_type": "markdown",
   "id": "f68855a7",
   "metadata": {},
   "source": [
    "## Splitting the Dataset into the Training set and Test set"
   ]
  },
  {
   "cell_type": "code",
   "execution_count": null,
   "id": "73b435b0",
   "metadata": {},
   "outputs": [],
   "source": [
    "from sklearn.model_selection import train_test_split\n",
    "X_train, X_test, y_train, y_test = train_test_split(X, y, test_size=0.2, random_state=0)"
   ]
  },
  {
   "cell_type": "markdown",
   "id": "d10afc13",
   "metadata": {},
   "source": [
    "## Training the Polynomial Regression model on the Training Set"
   ]
  },
  {
   "cell_type": "code",
   "execution_count": null,
   "id": "a271a582",
   "metadata": {},
   "outputs": [],
   "source": [
    "from sklearn.preprocessing import PolynomialFeatures\n",
    "from sklearn.linear_model import LinearRegression\n",
    "# 'n'th order polynomial regression\n",
    "poly_reg = PolynomialFeatures(degree='n')\n",
    "X_poly = poly_reg.fit_transform(X_train)\n",
    "reg_train = LinearRegression()\n",
    "reg_train.fit(X_poly, y_train)"
   ]
  },
  {
   "cell_type": "markdown",
   "id": "dc45f888",
   "metadata": {},
   "source": [
    "## Training the Polynomial Regression model on the whole dataset"
   ]
  },
  {
   "cell_type": "code",
   "execution_count": null,
   "id": "b52323eb",
   "metadata": {},
   "outputs": [],
   "source": [
    "from sklearn.preprocessing import PolynomialFeatures\n",
    "# 'n'th order polynomial regression\n",
    "poly_reg = PolynomialFeatures(degree='n')\n",
    "X_poly = poly_reg.fit_transform(X)\n",
    "reg_tot = LinearRegression()\n",
    "reg_tot.fit(X_poly, y)"
   ]
  },
  {
   "cell_type": "markdown",
   "id": "1b2dae9b",
   "metadata": {},
   "source": [
    "## Predicting Test Set Results"
   ]
  },
  {
   "cell_type": "code",
   "execution_count": null,
   "id": "787db64a",
   "metadata": {
    "scrolled": true
   },
   "outputs": [],
   "source": [
    "# Testing our model\n",
    "y_pred = regressor.predict(poly_reg.transform(X_test))\n",
    "np.set_printoptions(precision=2) # setting the precision of print to clean output\n",
    "print(np.concatenate((y_pred.reshape(len(y_pred), 1), y_test.reshape(len(y_test), 1)), axis=1))  # reshaping y_pred from rows to columns"
   ]
  },
  {
   "cell_type": "markdown",
   "id": "1c522c20",
   "metadata": {},
   "source": [
    "## Evaluating the Model Performace"
   ]
  },
  {
   "cell_type": "code",
   "execution_count": null,
   "id": "b35540b7",
   "metadata": {
    "scrolled": false
   },
   "outputs": [],
   "source": [
    "from sklearn.metrics import r2_score\n",
    "r2_score(y_test, y_pred)"
   ]
  },
  {
   "cell_type": "markdown",
   "id": "0e34945d",
   "metadata": {},
   "source": [
    "## Visualizing the Polynomial Regression Results"
   ]
  },
  {
   "cell_type": "code",
   "execution_count": null,
   "id": "6d000688",
   "metadata": {},
   "outputs": [],
   "source": [
    "X_grid = np.arange(min(X), max(X), 0.1)\n",
    "X_grid = X_grid.reshape((len(X_grid), 1))\n",
    "plt.plot(X_grid, lin_reg_2.predict(poly_reg.fit_transform(X_grid)), color='blue')\n",
    "plt.scatter(X, y, color='red')\n",
    "plt.title('')\n",
    "plt.xlabel('')\n",
    "plt.ylabel('')\n",
    "plt.show()"
   ]
  },
  {
   "cell_type": "markdown",
   "id": "28dde289",
   "metadata": {},
   "source": [
    "## Predicting New Results with Polynomial Regression"
   ]
  },
  {
   "cell_type": "code",
   "execution_count": null,
   "id": "9abdad31",
   "metadata": {},
   "outputs": [],
   "source": [
    "lin_reg_2.predict(poly_reg.fit_transform([[]]))"
   ]
  }
 ],
 "metadata": {
  "kernelspec": {
   "display_name": "Python 3 (ipykernel)",
   "language": "python",
   "name": "python3"
  },
  "language_info": {
   "codemirror_mode": {
    "name": "ipython",
    "version": 3
   },
   "file_extension": ".py",
   "mimetype": "text/x-python",
   "name": "python",
   "nbconvert_exporter": "python",
   "pygments_lexer": "ipython3",
   "version": "3.9.12"
  }
 },
 "nbformat": 4,
 "nbformat_minor": 5
}
