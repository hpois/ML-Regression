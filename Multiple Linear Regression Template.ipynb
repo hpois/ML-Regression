{
 "cells": [
  {
   "cell_type": "markdown",
   "id": "de93949b",
   "metadata": {},
   "source": [
    "# Multiple Linear Regression"
   ]
  },
  {
   "cell_type": "markdown",
   "id": "2bbb78dd",
   "metadata": {},
   "source": [
    "This notebook serves as a templte for builing a multiple linear regression machine learning model using the Scikit Learn library.\n",
    "\n",
    "A multivariable linear relationship follows the general equation:\n",
    "\n",
    "$y = b_0 + b_1x_1 + b_2x_2 + ... + b_nx_n$"
   ]
  },
  {
   "cell_type": "markdown",
   "id": "18f68442",
   "metadata": {},
   "source": [
    "## Importing the Libraries"
   ]
  },
  {
   "cell_type": "code",
   "execution_count": null,
   "id": "69f803ff",
   "metadata": {},
   "outputs": [],
   "source": [
    "import pandas as pd\n",
    "import matplotlib.pyplot as plt\n",
    "import numpy as np"
   ]
  },
  {
   "cell_type": "markdown",
   "id": "7d8bb1e6",
   "metadata": {},
   "source": [
    "## Importing the Dataset"
   ]
  },
  {
   "cell_type": "code",
   "execution_count": null,
   "id": "cb1fbdb9",
   "metadata": {},
   "outputs": [],
   "source": [
    "# Imports `Data.csv` from the notebook's directory\n",
    "# Slices columns 1 to (n-1) as `X`, and column n as `y`\n",
    "# where n = number of columns\n",
    "dataset = pd.read_csv('Data.csv')\n",
    "X = dataset.iloc[:, :-1].values\n",
    "y = dataset.iloc[:, -1].values"
   ]
  },
  {
   "cell_type": "markdown",
   "id": "771da77e",
   "metadata": {},
   "source": [
    "## Encoding the Categorical Data"
   ]
  },
  {
   "cell_type": "code",
   "execution_count": null,
   "id": "4e30a205",
   "metadata": {},
   "outputs": [],
   "source": [
    "# Encoding categorical data with `n` unique values using one-hot encoding\n",
    "from sklearn.compose import ColumnTransformer\n",
    "from sklearn.preprocessing import OneHotEncoder\n",
    "ct = ColumnTransformer(transformers=[('encoder', OneHotEncoder(), [`n`])], remainder='passthrough')\n",
    "X = np.array(ct.fit_transform(X))"
   ]
  },
  {
   "cell_type": "markdown",
   "id": "d878d1f9",
   "metadata": {},
   "source": [
    "## Splitting the Dataset into Training and Test Set "
   ]
  },
  {
   "cell_type": "code",
   "execution_count": null,
   "id": "42f909b2",
   "metadata": {},
   "outputs": [],
   "source": [
    "from sklearn.model_selection import train_test_split\n",
    "X_train, X_test, y_train, y_test = train_test_split(X, y, test_size=0.2, random_state=0)"
   ]
  },
  {
   "cell_type": "markdown",
   "id": "adb38849",
   "metadata": {},
   "source": [
    "## Training the Regressor on the Training Set"
   ]
  },
  {
   "cell_type": "code",
   "execution_count": null,
   "id": "e16c56da",
   "metadata": {},
   "outputs": [],
   "source": [
    "from sklearn.linear_model import LinearRegression\n",
    "regressor = LinearRegression()\n",
    "regressor.fit(X_train, y_train)"
   ]
  },
  {
   "cell_type": "markdown",
   "id": "69471393",
   "metadata": {},
   "source": [
    "## Predicing the Test Set Results"
   ]
  },
  {
   "cell_type": "code",
   "execution_count": null,
   "id": "12db7b2c",
   "metadata": {},
   "outputs": [],
   "source": [
    "# Testing our model\n",
    "y_pred = regressor.predict(X_test)\n",
    "np.set_printoptions(precision=2) # setting the precision of print to clean output\n",
    "print(np.concatenate((y_pred.reshape(len(y_pred), 1), y_test.reshape(len(y_test), 1)), axis=1))  # reshaping y_pred from rows to columns"
   ]
  },
  {
   "cell_type": "markdown",
   "id": "b1bed9ac",
   "metadata": {},
   "source": [
    "## Predicting New Values "
   ]
  },
  {
   "cell_type": "code",
   "execution_count": null,
   "id": "d66d9d08",
   "metadata": {},
   "outputs": [],
   "source": [
    "# Using the regressor object we built to predict a new value\n",
    "regressor.predict([[]])"
   ]
  },
  {
   "cell_type": "code",
   "execution_count": null,
   "id": "c4db29ad",
   "metadata": {},
   "outputs": [],
   "source": [
    "# Displaying the coefficients of the multiple linear equation\n",
    "regressor.coef_"
   ]
  },
  {
   "cell_type": "markdown",
   "id": "8f86a340",
   "metadata": {},
   "source": [
    "## Evaluating the Model Performace"
   ]
  },
  {
   "cell_type": "code",
   "execution_count": null,
   "id": "174e230c",
   "metadata": {
    "scrolled": true
   },
   "outputs": [],
   "source": [
    "from sklearn.metrics import r2_score\n",
    "r2_score(y_test, y_pred)"
   ]
  }
 ],
 "metadata": {
  "kernelspec": {
   "display_name": "Python 3 (ipykernel)",
   "language": "python",
   "name": "python3"
  },
  "language_info": {
   "codemirror_mode": {
    "name": "ipython",
    "version": 3
   },
   "file_extension": ".py",
   "mimetype": "text/x-python",
   "name": "python",
   "nbconvert_exporter": "python",
   "pygments_lexer": "ipython3",
   "version": "3.9.12"
  }
 },
 "nbformat": 4,
 "nbformat_minor": 5
}
